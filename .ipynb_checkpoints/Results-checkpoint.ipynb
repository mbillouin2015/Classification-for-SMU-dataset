{
 "cells": [
  {
   "cell_type": "code",
   "execution_count": 1,
   "metadata": {
    "ExecuteTime": {
     "end_time": "2020-04-27T17:00:15.010972Z",
     "start_time": "2020-04-27T17:00:14.078253Z"
    }
   },
   "outputs": [],
   "source": [
    "import pandas as pd\n",
    "import seaborn as sns\n",
    "import matplotlib.pyplot as plt\n",
    "sns.set(style='darkgrid')"
   ]
  },
  {
   "cell_type": "code",
   "execution_count": 2,
   "metadata": {
    "ExecuteTime": {
     "end_time": "2020-04-27T17:00:15.040698Z",
     "start_time": "2020-04-27T17:00:15.012943Z"
    }
   },
   "outputs": [
    {
     "data": {
      "text/html": [
       "<div>\n",
       "<style scoped>\n",
       "    .dataframe tbody tr th:only-of-type {\n",
       "        vertical-align: middle;\n",
       "    }\n",
       "\n",
       "    .dataframe tbody tr th {\n",
       "        vertical-align: top;\n",
       "    }\n",
       "\n",
       "    .dataframe thead th {\n",
       "        text-align: right;\n",
       "    }\n",
       "</style>\n",
       "<table border=\"1\" class=\"dataframe\">\n",
       "  <thead>\n",
       "    <tr style=\"text-align: right;\">\n",
       "      <th></th>\n",
       "      <th>Model</th>\n",
       "      <th>Dataset</th>\n",
       "      <th>Author</th>\n",
       "      <th>Accuracy</th>\n",
       "    </tr>\n",
       "  </thead>\n",
       "  <tbody>\n",
       "    <tr>\n",
       "      <th>0</th>\n",
       "      <td>MLP</td>\n",
       "      <td>FordA</td>\n",
       "      <td>Ismail</td>\n",
       "      <td>0.7300</td>\n",
       "    </tr>\n",
       "    <tr>\n",
       "      <th>1</th>\n",
       "      <td>CNN</td>\n",
       "      <td>FordA</td>\n",
       "      <td>Ismail</td>\n",
       "      <td>0.9040</td>\n",
       "    </tr>\n",
       "    <tr>\n",
       "      <th>2</th>\n",
       "      <td>MLP</td>\n",
       "      <td>FordA</td>\n",
       "      <td>author</td>\n",
       "      <td>0.7743</td>\n",
       "    </tr>\n",
       "    <tr>\n",
       "      <th>3</th>\n",
       "      <td>CNN</td>\n",
       "      <td>FordA</td>\n",
       "      <td>author</td>\n",
       "      <td>0.8203</td>\n",
       "    </tr>\n",
       "    <tr>\n",
       "      <th>4</th>\n",
       "      <td>MLP</td>\n",
       "      <td>SMU</td>\n",
       "      <td>author</td>\n",
       "      <td>0.7684</td>\n",
       "    </tr>\n",
       "  </tbody>\n",
       "</table>\n",
       "</div>"
      ],
      "text/plain": [
       "  Model Dataset   Author  Accuracy\n",
       "0   MLP   FordA  Ismail     0.7300\n",
       "1   CNN   FordA  Ismail     0.9040\n",
       "2   MLP   FordA   author    0.7743\n",
       "3   CNN   FordA   author    0.8203\n",
       "4   MLP     SMU   author    0.7684"
      ]
     },
     "execution_count": 2,
     "metadata": {},
     "output_type": "execute_result"
    }
   ],
   "source": [
    "results = pd.read_excel('results/results.xlsx')\n",
    "results.head()"
   ]
  },
  {
   "cell_type": "code",
   "execution_count": 3,
   "metadata": {
    "ExecuteTime": {
     "end_time": "2020-04-27T17:00:15.046006Z",
     "start_time": "2020-04-27T17:00:15.042856Z"
    }
   },
   "outputs": [],
   "source": [
    "Ford = results[results['Dataset'] == 'FordA']"
   ]
  },
  {
   "cell_type": "code",
   "execution_count": 31,
   "metadata": {
    "ExecuteTime": {
     "end_time": "2020-04-27T17:17:31.603704Z",
     "start_time": "2020-04-27T17:17:31.548462Z"
    }
   },
   "outputs": [
    {
     "data": {
      "text/plain": [
       "Text(0.5, 1.0, 'Model Accuracy Comparison between Ismail and Author')"
      ]
     },
     "execution_count": 31,
     "metadata": {},
     "output_type": "execute_result"
    }
   ],
   "source": [
    "%matplotlib qt\n",
    "plt.figure(figsize=(6, 4))\n",
    "splot = sns.barplot(data=Ford, x = 'Model', y = 'Accuracy', ci = None, hue='Author', palette='Set1')\n",
    "for p in splot.patches:\n",
    "    splot.annotate(format(p.get_height(), '.2f'), \n",
    "                   (p.get_x() + p.get_width() / 2., \n",
    "                    p.get_height()), ha = 'center', \n",
    "                   va = 'center', xytext = (0, 10), \n",
    "                   textcoords = 'offset points')\n",
    "\n",
    "box = splot.get_position()\n",
    "plt.legend(loc='center right', bbox_to_anchor=(1.25,0.5), ncol=1)\n",
    "plt.title('Model Accuracy Comparison between Ismail and Author', pad=15)"
   ]
  },
  {
   "cell_type": "code",
   "execution_count": 5,
   "metadata": {
    "ExecuteTime": {
     "end_time": "2020-04-27T17:00:15.221323Z",
     "start_time": "2020-04-27T17:00:15.218409Z"
    }
   },
   "outputs": [],
   "source": [
    "author = results[results['Author'] == 'author']"
   ]
  },
  {
   "cell_type": "code",
   "execution_count": 29,
   "metadata": {
    "ExecuteTime": {
     "end_time": "2020-04-27T17:14:36.558125Z",
     "start_time": "2020-04-27T17:14:36.431389Z"
    }
   },
   "outputs": [],
   "source": [
    "plt.figure(figsize=(6, 4))\n",
    "splot = sns.barplot(data=author, x = 'Dataset', y = 'Accuracy', ci = None, hue='Model',palette='dark')\n",
    "for p in splot.patches:\n",
    "    splot.annotate(format(p.get_height(), '.2f'), (p.get_x() + p.get_width() / 2., p.get_height()), ha = 'center', va = 'center', xytext = (0, 10), textcoords = 'offset points')\n",
    "\n",
    "box = splot.get_position()\n",
    "plt.legend(loc='center right', bbox_to_anchor=(1.25,0.5), ncol=1)\n",
    "plt.title('Model Accuracy Comparison between FordA and SMU Datasets', pad=15)"
   ]
  }
 ],
 "metadata": {
  "kernelspec": {
   "display_name": "Python 3",
   "language": "python",
   "name": "python3"
  },
  "language_info": {
   "codemirror_mode": {
    "name": "ipython",
    "version": 3
   },
   "file_extension": ".py",
   "mimetype": "text/x-python",
   "name": "python",
   "nbconvert_exporter": "python",
   "pygments_lexer": "ipython3",
   "version": "3.7.7"
  },
  "toc": {
   "base_numbering": 1,
   "nav_menu": {},
   "number_sections": true,
   "sideBar": true,
   "skip_h1_title": false,
   "title_cell": "Table of Contents",
   "title_sidebar": "Contents",
   "toc_cell": false,
   "toc_position": {},
   "toc_section_display": true,
   "toc_window_display": false
  }
 },
 "nbformat": 4,
 "nbformat_minor": 4
}
