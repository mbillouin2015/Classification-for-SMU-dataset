{
 "cells": [
  {
   "cell_type": "code",
   "execution_count": 1,
   "metadata": {
    "ExecuteTime": {
     "end_time": "2020-04-27T04:38:28.329591Z",
     "start_time": "2020-04-27T04:38:27.270688Z"
    }
   },
   "outputs": [
    {
     "name": "stderr",
     "output_type": "stream",
     "text": [
      "/Users/micahbillouin/miniconda3/envs/deep/lib/python3.7/site-packages/ipykernel_launcher.py:7: TqdmDeprecationWarning: This function will be removed in tqdm==5.0.0\n",
      "Please use `tqdm.notebook.*` instead of `tqdm._tqdm_notebook.*`\n",
      "  import sys\n",
      "/Users/micahbillouin/miniconda3/envs/deep/lib/python3.7/site-packages/tqdm/std.py:666: FutureWarning: The Panel class is removed from pandas. Accessing it from the top-level namespace will also be removed in the next version\n",
      "  from pandas import Panel\n"
     ]
    }
   ],
   "source": [
    "# imports\n",
    "import pandas as pd\n",
    "import numpy as np\n",
    "import matplotlib.pyplot as plt\n",
    "from scipy.signal import resample\n",
    "\n",
    "from tqdm._tqdm_notebook import tqdm_notebook\n",
    "tqdm_notebook.pandas()"
   ]
  },
  {
   "cell_type": "markdown",
   "metadata": {},
   "source": [
    "## Initial Dataframe Statistics"
   ]
  },
  {
   "cell_type": "code",
   "execution_count": 2,
   "metadata": {
    "ExecuteTime": {
     "end_time": "2020-04-27T04:38:33.285976Z",
     "start_time": "2020-04-27T04:38:28.331156Z"
    }
   },
   "outputs": [
    {
     "name": "stdout",
     "output_type": "stream",
     "text": [
      "<class 'pandas.core.frame.DataFrame'>\n",
      "RangeIndex: 57068 entries, 0 to 57067\n",
      "Data columns (total 18 columns):\n",
      " #   Column    Non-Null Count  Dtype  \n",
      "---  ------    --------------  -----  \n",
      " 0   ts        57068 non-null  object \n",
      " 1   y         57068 non-null  object \n",
      " 2   chan      57068 non-null  object \n",
      " 3   net       57068 non-null  object \n",
      " 4   station   57068 non-null  object \n",
      " 5   datetime  57068 non-null  object \n",
      " 6   hz        57068 non-null  float64\n",
      " 7   dsize     57068 non-null  int64  \n",
      " 8   evlo      57068 non-null  float64\n",
      " 9   evla      57068 non-null  float64\n",
      " 10  type      57068 non-null  object \n",
      " 11  stlo      57068 non-null  float64\n",
      " 12  stla      57068 non-null  float64\n",
      " 13  dist      57068 non-null  float64\n",
      " 14  lbl       57068 non-null  int64  \n",
      " 15  phase     57068 non-null  object \n",
      " 16  mag       0 non-null      object \n",
      " 17  depth     57068 non-null  int64  \n",
      "dtypes: float64(6), int64(3), object(9)\n",
      "memory usage: 7.8+ MB\n"
     ]
    }
   ],
   "source": [
    "data = pd.read_pickle('data/SMU.pickle')\n",
    "data.info()"
   ]
  },
  {
   "cell_type": "code",
   "execution_count": 3,
   "metadata": {
    "ExecuteTime": {
     "end_time": "2020-04-27T04:38:33.320581Z",
     "start_time": "2020-04-27T04:38:33.288186Z"
    }
   },
   "outputs": [
    {
     "data": {
      "text/html": [
       "<div>\n",
       "<style scoped>\n",
       "    .dataframe tbody tr th:only-of-type {\n",
       "        vertical-align: middle;\n",
       "    }\n",
       "\n",
       "    .dataframe tbody tr th {\n",
       "        vertical-align: top;\n",
       "    }\n",
       "\n",
       "    .dataframe thead th {\n",
       "        text-align: right;\n",
       "    }\n",
       "</style>\n",
       "<table border=\"1\" class=\"dataframe\">\n",
       "  <thead>\n",
       "    <tr style=\"text-align: right;\">\n",
       "      <th></th>\n",
       "      <th>ts</th>\n",
       "      <th>y</th>\n",
       "      <th>chan</th>\n",
       "      <th>net</th>\n",
       "      <th>station</th>\n",
       "      <th>datetime</th>\n",
       "      <th>hz</th>\n",
       "      <th>dsize</th>\n",
       "      <th>evlo</th>\n",
       "      <th>evla</th>\n",
       "      <th>type</th>\n",
       "      <th>stlo</th>\n",
       "      <th>stla</th>\n",
       "      <th>dist</th>\n",
       "      <th>lbl</th>\n",
       "      <th>phase</th>\n",
       "      <th>mag</th>\n",
       "      <th>depth</th>\n",
       "    </tr>\n",
       "  </thead>\n",
       "  <tbody>\n",
       "    <tr>\n",
       "      <th>0</th>\n",
       "      <td>[1.4992776862e-07, 1.54918878976e-07, 1.529371...</td>\n",
       "      <td>[0, 1]</td>\n",
       "      <td>BHZ</td>\n",
       "      <td>XD</td>\n",
       "      <td>A01</td>\n",
       "      <td>2011-09-12T20:40:13.765000Z</td>\n",
       "      <td>40.0</td>\n",
       "      <td>6</td>\n",
       "      <td>-112.8963</td>\n",
       "      <td>41.1312</td>\n",
       "      <td>RBD</td>\n",
       "      <td>-116.9214</td>\n",
       "      <td>32.578</td>\n",
       "      <td>1.014477e+06</td>\n",
       "      <td>1</td>\n",
       "      <td>I</td>\n",
       "      <td>None</td>\n",
       "      <td>0</td>\n",
       "    </tr>\n",
       "    <tr>\n",
       "      <th>1</th>\n",
       "      <td>[4.79185014254e-08, 4.6731994128e-08, 4.537867...</td>\n",
       "      <td>[0, 1]</td>\n",
       "      <td>BHT</td>\n",
       "      <td>YX</td>\n",
       "      <td>A01</td>\n",
       "      <td>2011-09-12T20:40:13.770000Z</td>\n",
       "      <td>40.0</td>\n",
       "      <td>6</td>\n",
       "      <td>-112.8963</td>\n",
       "      <td>41.1312</td>\n",
       "      <td>RBD</td>\n",
       "      <td>-116.9214</td>\n",
       "      <td>32.578</td>\n",
       "      <td>1.014477e+06</td>\n",
       "      <td>1</td>\n",
       "      <td>I</td>\n",
       "      <td>None</td>\n",
       "      <td>0</td>\n",
       "    </tr>\n",
       "    <tr>\n",
       "      <th>2</th>\n",
       "      <td>[-2.31064725335e-07, -2.30198857066e-07, -2.29...</td>\n",
       "      <td>[0, 1]</td>\n",
       "      <td>BHR</td>\n",
       "      <td>YX</td>\n",
       "      <td>A01</td>\n",
       "      <td>2011-09-12T20:40:13.770000Z</td>\n",
       "      <td>40.0</td>\n",
       "      <td>6</td>\n",
       "      <td>-112.8963</td>\n",
       "      <td>41.1312</td>\n",
       "      <td>RBD</td>\n",
       "      <td>-116.9214</td>\n",
       "      <td>32.578</td>\n",
       "      <td>1.014477e+06</td>\n",
       "      <td>1</td>\n",
       "      <td>I</td>\n",
       "      <td>None</td>\n",
       "      <td>0</td>\n",
       "    </tr>\n",
       "    <tr>\n",
       "      <th>3</th>\n",
       "      <td>[2.8589605464e-08, 2.98575254651e-08, 3.057572...</td>\n",
       "      <td>[0, 1]</td>\n",
       "      <td>BHZ</td>\n",
       "      <td>YX</td>\n",
       "      <td>A01</td>\n",
       "      <td>2011-09-12T20:40:13.770000Z</td>\n",
       "      <td>40.0</td>\n",
       "      <td>6</td>\n",
       "      <td>-112.8963</td>\n",
       "      <td>41.1312</td>\n",
       "      <td>RBD</td>\n",
       "      <td>-116.9214</td>\n",
       "      <td>32.578</td>\n",
       "      <td>1.014477e+06</td>\n",
       "      <td>1</td>\n",
       "      <td>I</td>\n",
       "      <td>None</td>\n",
       "      <td>0</td>\n",
       "    </tr>\n",
       "    <tr>\n",
       "      <th>4</th>\n",
       "      <td>[-1.24707152409e-07, -1.27273779492e-07, -1.23...</td>\n",
       "      <td>[0, 1]</td>\n",
       "      <td>BHT</td>\n",
       "      <td>XD</td>\n",
       "      <td>A01</td>\n",
       "      <td>2011-09-12T20:40:13.765000Z</td>\n",
       "      <td>40.0</td>\n",
       "      <td>6</td>\n",
       "      <td>-112.8963</td>\n",
       "      <td>41.1312</td>\n",
       "      <td>RBD</td>\n",
       "      <td>-116.9214</td>\n",
       "      <td>32.578</td>\n",
       "      <td>1.014477e+06</td>\n",
       "      <td>1</td>\n",
       "      <td>I</td>\n",
       "      <td>None</td>\n",
       "      <td>0</td>\n",
       "    </tr>\n",
       "  </tbody>\n",
       "</table>\n",
       "</div>"
      ],
      "text/plain": [
       "                                                  ts       y chan net station  \\\n",
       "0  [1.4992776862e-07, 1.54918878976e-07, 1.529371...  [0, 1]  BHZ  XD     A01   \n",
       "1  [4.79185014254e-08, 4.6731994128e-08, 4.537867...  [0, 1]  BHT  YX     A01   \n",
       "2  [-2.31064725335e-07, -2.30198857066e-07, -2.29...  [0, 1]  BHR  YX     A01   \n",
       "3  [2.8589605464e-08, 2.98575254651e-08, 3.057572...  [0, 1]  BHZ  YX     A01   \n",
       "4  [-1.24707152409e-07, -1.27273779492e-07, -1.23...  [0, 1]  BHT  XD     A01   \n",
       "\n",
       "                      datetime    hz  dsize      evlo     evla type      stlo  \\\n",
       "0  2011-09-12T20:40:13.765000Z  40.0      6 -112.8963  41.1312  RBD -116.9214   \n",
       "1  2011-09-12T20:40:13.770000Z  40.0      6 -112.8963  41.1312  RBD -116.9214   \n",
       "2  2011-09-12T20:40:13.770000Z  40.0      6 -112.8963  41.1312  RBD -116.9214   \n",
       "3  2011-09-12T20:40:13.770000Z  40.0      6 -112.8963  41.1312  RBD -116.9214   \n",
       "4  2011-09-12T20:40:13.765000Z  40.0      6 -112.8963  41.1312  RBD -116.9214   \n",
       "\n",
       "     stla          dist  lbl phase   mag  depth  \n",
       "0  32.578  1.014477e+06    1     I  None      0  \n",
       "1  32.578  1.014477e+06    1     I  None      0  \n",
       "2  32.578  1.014477e+06    1     I  None      0  \n",
       "3  32.578  1.014477e+06    1     I  None      0  \n",
       "4  32.578  1.014477e+06    1     I  None      0  "
      ]
     },
     "execution_count": 3,
     "metadata": {},
     "output_type": "execute_result"
    }
   ],
   "source": [
    "data.head()"
   ]
  },
  {
   "cell_type": "code",
   "execution_count": 4,
   "metadata": {
    "ExecuteTime": {
     "end_time": "2020-04-27T04:38:33.460550Z",
     "start_time": "2020-04-27T04:38:33.322364Z"
    }
   },
   "outputs": [
    {
     "data": {
      "text/plain": [
       "<matplotlib.axes._subplots.AxesSubplot at 0x20e29c310>"
      ]
     },
     "execution_count": 4,
     "metadata": {},
     "output_type": "execute_result"
    },
    {
     "data": {
      "image/png": "[encoded data removed]",
      "text/plain": [
       "<Figure size 432x288 with 1 Axes>"
      ]
     },
     "metadata": {
      "needs_background": "light"
     },
     "output_type": "display_data"
    }
   ],
   "source": [
    "data.type.hist()"
   ]
  },
  {
   "cell_type": "code",
   "execution_count": 5,
   "metadata": {
    "ExecuteTime": {
     "end_time": "2020-04-27T04:38:33.470812Z",
     "start_time": "2020-04-27T04:38:33.461880Z"
    }
   },
   "outputs": [
    {
     "data": {
      "text/plain": [
       "RBD    53257\n",
       "RMB     3811\n",
       "Name: type, dtype: int64"
      ]
     },
     "execution_count": 5,
     "metadata": {},
     "output_type": "execute_result"
    }
   ],
   "source": [
    "data.type.value_counts()"
   ]
  },
  {
   "cell_type": "code",
   "execution_count": 6,
   "metadata": {
    "ExecuteTime": {
     "end_time": "2020-04-27T04:38:33.598751Z",
     "start_time": "2020-04-27T04:38:33.472076Z"
    }
   },
   "outputs": [
    {
     "data": {
      "text/plain": [
       "<matplotlib.axes._subplots.AxesSubplot at 0x20ea874d0>"
      ]
     },
     "execution_count": 6,
     "metadata": {},
     "output_type": "execute_result"
    },
    {
     "data": {
      "image/png": "[encoded data removed]",
      "text/plain": [
       "<Figure size 432x288 with 1 Axes>"
      ]
     },
     "metadata": {
      "needs_background": "light"
     },
     "output_type": "display_data"
    }
   ],
   "source": [
    "data.hz.hist()"
   ]
  },
  {
   "cell_type": "code",
   "execution_count": 7,
   "metadata": {
    "ExecuteTime": {
     "end_time": "2020-04-27T04:38:33.603972Z",
     "start_time": "2020-04-27T04:38:33.600074Z"
    }
   },
   "outputs": [
    {
     "name": "stdout",
     "output_type": "stream",
     "text": [
      "Average sampling rate for both classes:  63.7789128759\n"
     ]
    }
   ],
   "source": [
    "print('Average sampling rate for both classes: ',data.hz.mean())"
   ]
  },
  {
   "cell_type": "code",
   "execution_count": 8,
   "metadata": {
    "ExecuteTime": {
     "end_time": "2020-04-27T04:38:33.844383Z",
     "start_time": "2020-04-27T04:38:33.606492Z"
    }
   },
   "outputs": [
    {
     "data": {
      "application/vnd.jupyter.widget-view+json": {
       "model_id": "b716bcc57c834d459f47fe2277da03e9",
       "version_major": 2,
       "version_minor": 0
      },
      "text/plain": [
       "HBox(children=(FloatProgress(value=0.0, max=57068.0), HTML(value='')))"
      ]
     },
     "metadata": {},
     "output_type": "display_data"
    },
    {
     "name": "stdout",
     "output_type": "stream",
     "text": [
      "\n"
     ]
    },
    {
     "data": {
      "text/plain": [
       "<matplotlib.axes._subplots.AxesSubplot at 0x20ed074d0>"
      ]
     },
     "execution_count": 8,
     "metadata": {},
     "output_type": "execute_result"
    },
    {
     "data": {
      "image/png": "[encoded data removed]",
      "text/plain": [
       "<Figure size 432x288 with 1 Axes>"
      ]
     },
     "metadata": {
      "needs_background": "light"
     },
     "output_type": "display_data"
    }
   ],
   "source": [
    "data['lens'] = data.ts.progress_apply(lambda x: len(x))\n",
    "data.lens.hist()"
   ]
  },
  {
   "cell_type": "code",
   "execution_count": 9,
   "metadata": {
    "ExecuteTime": {
     "end_time": "2020-04-27T04:38:33.853909Z",
     "start_time": "2020-04-27T04:38:33.846277Z"
    }
   },
   "outputs": [],
   "source": [
    "data.type.replace(to_replace='RBD', value='UTTR', inplace=True)\n",
    "data.type.replace(to_replace='RMB', value='RMT', inplace=True)"
   ]
  },
  {
   "cell_type": "markdown",
   "metadata": {},
   "source": [
    "## Balance Classes"
   ]
  },
  {
   "cell_type": "code",
   "execution_count": 10,
   "metadata": {
    "ExecuteTime": {
     "end_time": "2020-04-27T04:38:34.010561Z",
     "start_time": "2020-04-27T04:38:33.855221Z"
    }
   },
   "outputs": [
    {
     "data": {
      "text/plain": [
       "<matplotlib.axes._subplots.AxesSubplot at 0x20eda0890>"
      ]
     },
     "execution_count": 10,
     "metadata": {},
     "output_type": "execute_result"
    },
    {
     "data": {
      "image/png": "[encoded data removed]",
      "text/plain": [
       "<Figure size 432x288 with 1 Axes>"
      ]
     },
     "metadata": {
      "needs_background": "light"
     },
     "output_type": "display_data"
    }
   ],
   "source": [
    "UTTR = data.loc[data['type'] == 'UTTR'].copy()\n",
    "\n",
    "RMT = data.loc[data['type'] == 'RMT'].copy()\n",
    "\n",
    "UTTR = UTTR.sample(frac=0.0716, replace=False, random_state=42)\n",
    "\n",
    "\n",
    "smu_balanced = pd.concat([UTTR, RMT])\n",
    "smu_balanced.type.hist()"
   ]
  },
  {
   "cell_type": "code",
   "execution_count": 11,
   "metadata": {
    "ExecuteTime": {
     "end_time": "2020-04-27T04:38:34.014284Z",
     "start_time": "2020-04-27T04:38:34.012115Z"
    }
   },
   "outputs": [],
   "source": [
    "smu_balanced.reset_index(inplace=True, drop=True)\n",
    "# smu_balanced.to_pickle('data/smu_balanced.pickle')"
   ]
  },
  {
   "cell_type": "markdown",
   "metadata": {},
   "source": [
    "## Resample SMU data"
   ]
  },
  {
   "cell_type": "markdown",
   "metadata": {},
   "source": [
    "### Imbalanced"
   ]
  },
  {
   "cell_type": "code",
   "execution_count": 12,
   "metadata": {
    "ExecuteTime": {
     "end_time": "2020-04-27T04:38:34.137849Z",
     "start_time": "2020-04-27T04:38:34.015584Z"
    },
    "scrolled": true
   },
   "outputs": [
    {
     "data": {
      "text/plain": [
       "<matplotlib.axes._subplots.AxesSubplot at 0x20f99a850>"
      ]
     },
     "execution_count": 12,
     "metadata": {},
     "output_type": "execute_result"
    },
    {
     "data": {
      "image/png": "[encoded data removed]",
      "text/plain": [
       "<Figure size 432x288 with 1 Axes>"
      ]
     },
     "metadata": {
      "needs_background": "light"
     },
     "output_type": "display_data"
    }
   ],
   "source": [
    "# View distrbution of sampling rates and lengths before resample\n",
    "data.lens.hist()"
   ]
  },
  {
   "cell_type": "code",
   "execution_count": 13,
   "metadata": {
    "ExecuteTime": {
     "end_time": "2020-04-27T04:38:42.484190Z",
     "start_time": "2020-04-27T04:38:34.139504Z"
    }
   },
   "outputs": [
    {
     "data": {
      "application/vnd.jupyter.widget-view+json": {
       "model_id": "a3629d47bf2a44b8a0a56bc11c0db2a9",
       "version_major": 2,
       "version_minor": 0
      },
      "text/plain": [
       "HBox(children=(FloatProgress(value=0.0, max=57068.0), HTML(value='')))"
      ]
     },
     "metadata": {},
     "output_type": "display_data"
    },
    {
     "name": "stdout",
     "output_type": "stream",
     "text": [
      "\n"
     ]
    },
    {
     "data": {
      "application/vnd.jupyter.widget-view+json": {
       "model_id": "206ba8e8ca4948d686ca4e76f3e2f747",
       "version_major": 2,
       "version_minor": 0
      },
      "text/plain": [
       "HBox(children=(FloatProgress(value=0.0, max=57068.0), HTML(value='')))"
      ]
     },
     "metadata": {},
     "output_type": "display_data"
    },
    {
     "name": "stdout",
     "output_type": "stream",
     "text": [
      "\n"
     ]
    },
    {
     "data": {
      "text/plain": [
       "<matplotlib.axes._subplots.AxesSubplot at 0x11d44af10>"
      ]
     },
     "execution_count": 13,
     "metadata": {},
     "output_type": "execute_result"
    },
    {
     "data": {
      "image/png": "[encoded data removed]",
      "text/plain": [
       "<Figure size 432x288 with 1 Axes>"
      ]
     },
     "metadata": {
      "needs_background": "light"
     },
     "output_type": "display_data"
    }
   ],
   "source": [
    "smu_resampled = data.drop(columns=['lens']).copy()\n",
    "\n",
    "# ts, num=int(len(ts)*new_freq/samp_freq), t=None, axis=0, window=None)\n",
    "to_length = 1024\n",
    "smu_resampled['ts'] = smu_resampled.ts.progress_apply(lambda x: resample(x, num=to_length))\n",
    "\n",
    "smu_resampled['lens'] = smu_resampled.ts.progress_apply(lambda x: len(x))\n",
    "smu_resampled.lens.hist()\n"
   ]
  },
  {
   "cell_type": "code",
   "execution_count": 14,
   "metadata": {
    "ExecuteTime": {
     "end_time": "2020-04-27T04:38:42.487124Z",
     "start_time": "2020-04-27T04:38:42.485393Z"
    }
   },
   "outputs": [],
   "source": [
    "# def reassign(x):\n",
    "#     x = 60\n",
    "#     return(float(x))\n",
    "\n",
    "\n",
    "# smu_resampled['hz'] = smu_resampled.hz.progress_apply(lambda x: reassign(x))\n",
    "# smu_resampled.hz.hist()"
   ]
  },
  {
   "cell_type": "code",
   "execution_count": 15,
   "metadata": {
    "ExecuteTime": {
     "end_time": "2020-04-27T04:38:42.490295Z",
     "start_time": "2020-04-27T04:38:42.488585Z"
    }
   },
   "outputs": [],
   "source": [
    "# smu_resampled.to_pickle('data/smu_resampled_imbalanced.pickle')"
   ]
  },
  {
   "cell_type": "markdown",
   "metadata": {},
   "source": [
    "### Balanced"
   ]
  },
  {
   "cell_type": "code",
   "execution_count": 16,
   "metadata": {
    "ExecuteTime": {
     "end_time": "2020-04-27T04:38:43.603063Z",
     "start_time": "2020-04-27T04:38:42.491589Z"
    }
   },
   "outputs": [
    {
     "data": {
      "application/vnd.jupyter.widget-view+json": {
       "model_id": "bcfbd81ed07c412d9a0cf20178924d85",
       "version_major": 2,
       "version_minor": 0
      },
      "text/plain": [
       "HBox(children=(FloatProgress(value=0.0, max=7624.0), HTML(value='')))"
      ]
     },
     "metadata": {},
     "output_type": "display_data"
    },
    {
     "name": "stdout",
     "output_type": "stream",
     "text": [
      "\n"
     ]
    },
    {
     "data": {
      "application/vnd.jupyter.widget-view+json": {
       "model_id": "b07e58484c494b3b83d26691926baede",
       "version_major": 2,
       "version_minor": 0
      },
      "text/plain": [
       "HBox(children=(FloatProgress(value=0.0, max=7624.0), HTML(value='')))"
      ]
     },
     "metadata": {},
     "output_type": "display_data"
    },
    {
     "name": "stdout",
     "output_type": "stream",
     "text": [
      "\n"
     ]
    },
    {
     "data": {
      "text/plain": [
       "<matplotlib.axes._subplots.AxesSubplot at 0x20d922d50>"
      ]
     },
     "execution_count": 16,
     "metadata": {},
     "output_type": "execute_result"
    },
    {
     "data": {
      "image/png": "[encoded data removed]",
      "text/plain": [
       "<Figure size 432x288 with 1 Axes>"
      ]
     },
     "metadata": {
      "needs_background": "light"
     },
     "output_type": "display_data"
    }
   ],
   "source": [
    "smu_balanced_resampled = smu_balanced.drop(columns=['lens']).copy()\n",
    "\n",
    "to_length = 1024\n",
    "smu_balanced_resampled['ts'] = smu_balanced_resampled.ts.progress_apply(lambda x: resample(x, to_length))\n",
    "\n",
    "smu_balanced_resampled['lens'] = smu_balanced_resampled.ts.progress_apply(lambda x: len(x))\n",
    "smu_balanced_resampled.lens.hist()"
   ]
  },
  {
   "cell_type": "code",
   "execution_count": 17,
   "metadata": {
    "ExecuteTime": {
     "end_time": "2020-04-27T04:38:43.606213Z",
     "start_time": "2020-04-27T04:38:43.604581Z"
    }
   },
   "outputs": [],
   "source": [
    "# smu_balanced_resampled['hz'] = smu_balanced_resampled.hz.progress_apply(lambda x: reassign(x))\n",
    "# smu_balanced_resampled.hz.hist()"
   ]
  },
  {
   "cell_type": "code",
   "execution_count": 18,
   "metadata": {
    "ExecuteTime": {
     "end_time": "2020-04-27T04:38:43.609304Z",
     "start_time": "2020-04-27T04:38:43.607578Z"
    }
   },
   "outputs": [],
   "source": [
    "# smu_balanced_resampled.to_pickle('data/smu_resampled_balanced.pickle')"
   ]
  },
  {
   "cell_type": "code",
   "execution_count": null,
   "metadata": {},
   "outputs": [],
   "source": []
  },
  {
   "cell_type": "code",
   "execution_count": null,
   "metadata": {},
   "outputs": [],
   "source": []
  }
 ],
 "metadata": {
  "kernelspec": {
   "display_name": "Python 3",
   "language": "python",
   "name": "python3"
  },
  "language_info": {
   "codemirror_mode": {
    "name": "ipython",
    "version": 3
   },
   "file_extension": ".py",
   "mimetype": "text/x-python",
   "name": "python",
   "nbconvert_exporter": "python",
   "pygments_lexer": "ipython3",
   "version": "3.7.7"
  },
  "toc": {
   "base_numbering": 1,
   "nav_menu": {},
   "number_sections": true,
   "sideBar": true,
   "skip_h1_title": false,
   "title_cell": "Table of Contents",
   "title_sidebar": "Contents",
   "toc_cell": false,
   "toc_position": {},
   "toc_section_display": true,
   "toc_window_display": true
  }
 },
 "nbformat": 4,
 "nbformat_minor": 4
}
